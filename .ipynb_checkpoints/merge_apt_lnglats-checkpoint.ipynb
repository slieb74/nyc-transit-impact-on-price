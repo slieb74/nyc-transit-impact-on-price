{
 "cells": [
  {
   "cell_type": "code",
   "execution_count": 34,
   "metadata": {},
   "outputs": [],
   "source": [
    "import pandas as pd\n",
    "import matplotlib.pyplot as plt\n",
    "%matplotlib inline\n",
    "import geopandas\n",
    "from shapely.geometry import Point"
   ]
  },
  {
   "cell_type": "markdown",
   "metadata": {},
   "source": [
    "# import and merge dfs"
   ]
  },
  {
   "cell_type": "code",
   "execution_count": 66,
   "metadata": {},
   "outputs": [],
   "source": [
    "apt_df = pd.read_csv('clean_df.csv',index_col=0)\n",
    "lng_lat_df = pd.read_csv('lng_lat_df.csv',index_col=0)"
   ]
  },
  {
   "cell_type": "code",
   "execution_count": 67,
   "metadata": {
    "scrolled": true
   },
   "outputs": [
    {
     "data": {
      "text/html": [
       "<div>\n",
       "<style scoped>\n",
       "    .dataframe tbody tr th:only-of-type {\n",
       "        vertical-align: middle;\n",
       "    }\n",
       "\n",
       "    .dataframe tbody tr th {\n",
       "        vertical-align: top;\n",
       "    }\n",
       "\n",
       "    .dataframe thead th {\n",
       "        text-align: right;\n",
       "    }\n",
       "</style>\n",
       "<table border=\"1\" class=\"dataframe\">\n",
       "  <thead>\n",
       "    <tr style=\"text-align: right;\">\n",
       "      <th></th>\n",
       "      <th>address</th>\n",
       "      <th>lng</th>\n",
       "      <th>lat</th>\n",
       "    </tr>\n",
       "  </thead>\n",
       "  <tbody>\n",
       "    <tr>\n",
       "      <th>0</th>\n",
       "      <td>70 BAY 10 STREET</td>\n",
       "      <td>-74.010374</td>\n",
       "      <td>40.609752</td>\n",
       "    </tr>\n",
       "    <tr>\n",
       "      <th>1</th>\n",
       "      <td>8650 BAY 16TH STREET</td>\n",
       "      <td>-74.005338</td>\n",
       "      <td>40.607264</td>\n",
       "    </tr>\n",
       "    <tr>\n",
       "      <th>2</th>\n",
       "      <td>70 BAY 20TH STREET</td>\n",
       "      <td>-74.002813</td>\n",
       "      <td>40.605148</td>\n",
       "    </tr>\n",
       "    <tr>\n",
       "      <th>3</th>\n",
       "      <td>130 BAY 10TH STREET</td>\n",
       "      <td>-74.011683</td>\n",
       "      <td>40.608472</td>\n",
       "    </tr>\n",
       "    <tr>\n",
       "      <th>4</th>\n",
       "      <td>110 BAY 17TH STREET</td>\n",
       "      <td>-74.006032</td>\n",
       "      <td>40.605548</td>\n",
       "    </tr>\n",
       "  </tbody>\n",
       "</table>\n",
       "</div>"
      ],
      "text/plain": [
       "                address        lng        lat\n",
       "0      70 BAY 10 STREET -74.010374  40.609752\n",
       "1  8650 BAY 16TH STREET -74.005338  40.607264\n",
       "2    70 BAY 20TH STREET -74.002813  40.605148\n",
       "3   130 BAY 10TH STREET -74.011683  40.608472\n",
       "4   110 BAY 17TH STREET -74.006032  40.605548"
      ]
     },
     "execution_count": 67,
     "metadata": {},
     "output_type": "execute_result"
    }
   ],
   "source": [
    "lng_lat_df.head()"
   ]
  },
  {
   "cell_type": "code",
   "execution_count": 68,
   "metadata": {},
   "outputs": [],
   "source": [
    "# convert to points\n",
    "# geometry = [Point(xy) for xy in zip(lng_lat_df.lng, lng_lat_df.lat)]\n",
    "# df2 = lng_lat_df.drop(['lng','lat'], axis=1)\n",
    "# crs = {'init': 'epsg:4326'}\n",
    "# gdf = geopandas.GeoDataFrame(df2, crs=crs, geometry=geometry)\n"
   ]
  },
  {
   "cell_type": "code",
   "execution_count": 69,
   "metadata": {},
   "outputs": [],
   "source": [
    "df = lng_lat_df.merge(apt_df, on='address')\n",
    "df = df.fillna(0)\n",
    "df.sale_date = pd.to_datetime(df.sale_date)"
   ]
  },
  {
   "cell_type": "code",
   "execution_count": 70,
   "metadata": {},
   "outputs": [
    {
     "data": {
      "text/html": [
       "<div>\n",
       "<style scoped>\n",
       "    .dataframe tbody tr th:only-of-type {\n",
       "        vertical-align: middle;\n",
       "    }\n",
       "\n",
       "    .dataframe tbody tr th {\n",
       "        vertical-align: top;\n",
       "    }\n",
       "\n",
       "    .dataframe thead th {\n",
       "        text-align: right;\n",
       "    }\n",
       "</style>\n",
       "<table border=\"1\" class=\"dataframe\">\n",
       "  <thead>\n",
       "    <tr style=\"text-align: right;\">\n",
       "      <th></th>\n",
       "      <th>address</th>\n",
       "      <th>lng</th>\n",
       "      <th>lat</th>\n",
       "      <th>apartment_number</th>\n",
       "      <th>borough</th>\n",
       "      <th>building_class_category</th>\n",
       "      <th>commercial_units</th>\n",
       "      <th>gross_square_feet</th>\n",
       "      <th>land_square_feet</th>\n",
       "      <th>neighborhood</th>\n",
       "      <th>residential_units</th>\n",
       "      <th>sale_date</th>\n",
       "      <th>sale_price</th>\n",
       "      <th>total_units</th>\n",
       "      <th>year_built</th>\n",
       "      <th>zip_code</th>\n",
       "    </tr>\n",
       "  </thead>\n",
       "  <tbody>\n",
       "    <tr>\n",
       "      <th>0</th>\n",
       "      <td>70 BAY 10 STREET</td>\n",
       "      <td>-74.010374</td>\n",
       "      <td>40.609752</td>\n",
       "      <td>0</td>\n",
       "      <td>3</td>\n",
       "      <td>01  ONE FAMILY HOMES</td>\n",
       "      <td>0</td>\n",
       "      <td>1428</td>\n",
       "      <td>2513</td>\n",
       "      <td>BATH BEACH</td>\n",
       "      <td>1</td>\n",
       "      <td>2012-06-28</td>\n",
       "      <td>610000</td>\n",
       "      <td>1</td>\n",
       "      <td>1930</td>\n",
       "      <td>11228</td>\n",
       "    </tr>\n",
       "    <tr>\n",
       "      <th>1</th>\n",
       "      <td>8650 BAY 16TH STREET</td>\n",
       "      <td>-74.005338</td>\n",
       "      <td>40.607264</td>\n",
       "      <td>0</td>\n",
       "      <td>3</td>\n",
       "      <td>01  ONE FAMILY HOMES</td>\n",
       "      <td>0</td>\n",
       "      <td>1724</td>\n",
       "      <td>4833</td>\n",
       "      <td>BATH BEACH</td>\n",
       "      <td>1</td>\n",
       "      <td>2012-12-18</td>\n",
       "      <td>860000</td>\n",
       "      <td>1</td>\n",
       "      <td>1930</td>\n",
       "      <td>11214</td>\n",
       "    </tr>\n",
       "    <tr>\n",
       "      <th>2</th>\n",
       "      <td>8650 BAY 16TH STREET</td>\n",
       "      <td>-74.005338</td>\n",
       "      <td>40.607264</td>\n",
       "      <td>2A</td>\n",
       "      <td>3</td>\n",
       "      <td>04  TAX CLASS 1 CONDOS</td>\n",
       "      <td>0</td>\n",
       "      <td>0</td>\n",
       "      <td>0</td>\n",
       "      <td>BATH BEACH</td>\n",
       "      <td>1</td>\n",
       "      <td>2012-07-25</td>\n",
       "      <td>452000</td>\n",
       "      <td>1</td>\n",
       "      <td>0</td>\n",
       "      <td>11214</td>\n",
       "    </tr>\n",
       "    <tr>\n",
       "      <th>3</th>\n",
       "      <td>8650 BAY 16TH STREET</td>\n",
       "      <td>-74.005338</td>\n",
       "      <td>40.607264</td>\n",
       "      <td>1B</td>\n",
       "      <td>3</td>\n",
       "      <td>04  TAX CLASS 1 CONDOS</td>\n",
       "      <td>0</td>\n",
       "      <td>0</td>\n",
       "      <td>0</td>\n",
       "      <td>BATH BEACH</td>\n",
       "      <td>1</td>\n",
       "      <td>2014-10-27</td>\n",
       "      <td>510000</td>\n",
       "      <td>1</td>\n",
       "      <td>0</td>\n",
       "      <td>11214</td>\n",
       "    </tr>\n",
       "    <tr>\n",
       "      <th>4</th>\n",
       "      <td>8650 BAY 16TH STREET</td>\n",
       "      <td>-74.005338</td>\n",
       "      <td>40.607264</td>\n",
       "      <td>1C</td>\n",
       "      <td>3</td>\n",
       "      <td>04  TAX CLASS 1 CONDOS</td>\n",
       "      <td>0</td>\n",
       "      <td>0</td>\n",
       "      <td>0</td>\n",
       "      <td>BATH BEACH</td>\n",
       "      <td>1</td>\n",
       "      <td>2015-12-15</td>\n",
       "      <td>520000</td>\n",
       "      <td>1</td>\n",
       "      <td>0</td>\n",
       "      <td>11214</td>\n",
       "    </tr>\n",
       "  </tbody>\n",
       "</table>\n",
       "</div>"
      ],
      "text/plain": [
       "                address        lng        lat apartment_number  borough  \\\n",
       "0      70 BAY 10 STREET -74.010374  40.609752                0        3   \n",
       "1  8650 BAY 16TH STREET -74.005338  40.607264                0        3   \n",
       "2  8650 BAY 16TH STREET -74.005338  40.607264               2A        3   \n",
       "3  8650 BAY 16TH STREET -74.005338  40.607264               1B        3   \n",
       "4  8650 BAY 16TH STREET -74.005338  40.607264               1C        3   \n",
       "\n",
       "  building_class_category  commercial_units  gross_square_feet  \\\n",
       "0    01  ONE FAMILY HOMES                 0               1428   \n",
       "1    01  ONE FAMILY HOMES                 0               1724   \n",
       "2  04  TAX CLASS 1 CONDOS                 0                  0   \n",
       "3  04  TAX CLASS 1 CONDOS                 0                  0   \n",
       "4  04  TAX CLASS 1 CONDOS                 0                  0   \n",
       "\n",
       "   land_square_feet neighborhood  residential_units  sale_date  sale_price  \\\n",
       "0              2513   BATH BEACH                  1 2012-06-28      610000   \n",
       "1              4833   BATH BEACH                  1 2012-12-18      860000   \n",
       "2                 0   BATH BEACH                  1 2012-07-25      452000   \n",
       "3                 0   BATH BEACH                  1 2014-10-27      510000   \n",
       "4                 0   BATH BEACH                  1 2015-12-15      520000   \n",
       "\n",
       "   total_units  year_built  zip_code  \n",
       "0            1        1930     11228  \n",
       "1            1        1930     11214  \n",
       "2            1           0     11214  \n",
       "3            1           0     11214  \n",
       "4            1           0     11214  "
      ]
     },
     "execution_count": 70,
     "metadata": {},
     "output_type": "execute_result"
    }
   ],
   "source": [
    "df.head()"
   ]
  },
  {
   "cell_type": "code",
   "execution_count": 71,
   "metadata": {},
   "outputs": [],
   "source": [
    "df.to_csv('merged_df.csv')"
   ]
  },
  {
   "cell_type": "code",
   "execution_count": 72,
   "metadata": {},
   "outputs": [
    {
     "data": {
      "text/plain": [
       "pandas.core.frame.DataFrame"
      ]
     },
     "execution_count": 72,
     "metadata": {},
     "output_type": "execute_result"
    }
   ],
   "source": [
    "type(df)"
   ]
  },
  {
   "cell_type": "code",
   "execution_count": null,
   "metadata": {},
   "outputs": [],
   "source": []
  }
 ],
 "metadata": {
  "kernelspec": {
   "display_name": "Python 3",
   "language": "python",
   "name": "python3"
  },
  "language_info": {
   "codemirror_mode": {
    "name": "ipython",
    "version": 3
   },
   "file_extension": ".py",
   "mimetype": "text/x-python",
   "name": "python",
   "nbconvert_exporter": "python",
   "pygments_lexer": "ipython3",
   "version": "3.6.5"
  }
 },
 "nbformat": 4,
 "nbformat_minor": 2
}

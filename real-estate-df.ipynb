{
 "cells": [
  {
   "cell_type": "code",
   "execution_count": 2,
   "metadata": {},
   "outputs": [],
   "source": [
    "import pandas as pd\n",
    "import numpy as np\n",
    "import re\n",
    "import time"
   ]
  },
  {
   "cell_type": "code",
   "execution_count": 4,
   "metadata": {},
   "outputs": [],
   "source": [
    "boroughs = ['brooklyn','manhattan','queens']\n",
    "\n",
    "df_list = []\n",
    "for i in range(2012,2018):\n",
    "    for b in boroughs[:-1]:\n",
    "        df_list.append(pd.read_excel('../datasets/' + str(i) + '_' + b + '.xls', header=4))\n",
    "        "
   ]
  },
  {
   "cell_type": "code",
   "execution_count": 348,
   "metadata": {},
   "outputs": [
    {
     "data": {
      "text/plain": [
       "['brooklyn', 'manhattan']"
      ]
     },
     "execution_count": 348,
     "metadata": {},
     "output_type": "execute_result"
    }
   ],
   "source": [
    "boroughs[:-1]"
   ]
  },
  {
   "cell_type": "code",
   "execution_count": 350,
   "metadata": {
    "scrolled": true
   },
   "outputs": [
    {
     "name": "stderr",
     "output_type": "stream",
     "text": [
      "/Users/SamLiebman/anaconda3/lib/python3.6/site-packages/ipykernel_launcher.py:1: FutureWarning: Sorting because non-concatenation axis is not aligned. A future version\n",
      "of pandas will change to not sort by default.\n",
      "\n",
      "To accept the future behavior, pass 'sort=True'.\n",
      "\n",
      "To retain the current behavior and silence the warning, pass sort=False\n",
      "\n",
      "  \"\"\"Entry point for launching an IPython kernel.\n"
     ]
    }
   ],
   "source": [
    "df = pd.concat(df_list)"
   ]
  },
  {
   "cell_type": "code",
   "execution_count": 351,
   "metadata": {},
   "outputs": [
    {
     "data": {
      "text/plain": [
       "Index(['ADDRESS\\n', 'APARTMENT NUMBER\\n', 'BLOCK\\n', 'BOROUGH\\n',\n",
       "       'BUILDING CLASS AS OF FINAL ROLL 17/18', 'BUILDING CLASS AT PRESENT\\n',\n",
       "       'BUILDING CLASS AT TIME OF SALE\\n', 'BUILDING CLASS CATEGORY\\n',\n",
       "       'COMMERCIAL UNITS\\n', 'EASE-MENT\\n', 'GROSS SQUARE FEET\\n',\n",
       "       'LAND SQUARE FEET\\n', 'LOT\\n', 'NEIGHBORHOOD\\n', 'RESIDENTIAL UNITS\\n',\n",
       "       'SALE DATE\\n', 'SALE PRICE\\n', 'TAX CLASS AS OF FINAL ROLL 17/18',\n",
       "       'TAX CLASS AT PRESENT\\n', 'TAX CLASS AT TIME OF SALE\\n',\n",
       "       'TOTAL UNITS\\n', 'YEAR BUILT\\n', 'ZIP CODE\\n'],\n",
       "      dtype='object')"
      ]
     },
     "execution_count": 351,
     "metadata": {},
     "output_type": "execute_result"
    }
   ],
   "source": [
    "df.columns"
   ]
  },
  {
   "cell_type": "code",
   "execution_count": 352,
   "metadata": {},
   "outputs": [],
   "source": [
    "#dropping tax columns\n",
    "\n",
    "df=df.drop(columns= ['BLOCK\\n','BUILDING CLASS AS OF FINAL ROLL 17/18', 'BUILDING CLASS AT PRESENT\\n',\n",
    "       'BUILDING CLASS AT TIME OF SALE\\n','EASE-MENT\\n','LOT\\n','TAX CLASS AS OF FINAL ROLL 17/18',\n",
    "       'TAX CLASS AT PRESENT\\n', 'TAX CLASS AT TIME OF SALE\\n'])\n",
    "\n",
    "#turning columns into a list\n",
    "title = list(df.columns)\n",
    "\n",
    "#remove \\n and space between words to _\n",
    "title_list =[]\n",
    "for t in title:\n",
    "    t= t.strip('\\n')\n",
    "    t=t.replace(' ', '_')\n",
    "    title_list.append(t.lower())\n",
    "\n",
    "#rename columns\n",
    "df.columns=title_list\n",
    "\n",
    "#drop total_units >1\n",
    "df = df[df['total_units']==1]\n",
    "\n",
    "#remove all whitespace\n",
    "df = df.apply(lambda x: x.str.strip() if x.dtype == 'object' else x)\n",
    "df.address = df.address.replace('\\s+', ' ', regex=True)\n",
    "\n",
    "#remove prices less than $100000\n",
    "df =df[df['sale_price']>100000]\n"
   ]
  },
  {
   "cell_type": "code",
   "execution_count": 360,
   "metadata": {},
   "outputs": [],
   "source": [
    "#function to round address numbers\n",
    "def round_addresses():\n",
    "    addresses = list(df.address)\n",
    "    rounded_addresses = []\n",
    "    for address in addresses:\n",
    "        #print(address)\n",
    "        if address[0].isnumeric()==False:\n",
    "            rounded_addresses.append(address)\n",
    "        else:\n",
    "            a = address.split(' ',1)\n",
    "            a[0] = re.sub('[^0-9-]','', a[0])\n",
    "            a1 = a[0].split('-')[0]\n",
    "            a_round = str(int(np.floor(int(a1)/10)*10))\n",
    "            rounded_addresses.append(a_round + ' ' + ' '.join(a[1:]))\n",
    "    return rounded_addresses"
   ]
  },
  {
   "cell_type": "code",
   "execution_count": 361,
   "metadata": {
    "scrolled": true
   },
   "outputs": [],
   "source": [
    "round_addresses = round_addresses()"
   ]
  },
  {
   "cell_type": "code",
   "execution_count": 366,
   "metadata": {},
   "outputs": [],
   "source": [
    "#round down address numbers\n",
    "df.address = round_addresses"
   ]
  },
  {
   "cell_type": "code",
   "execution_count": 376,
   "metadata": {},
   "outputs": [
    {
     "data": {
      "text/plain": [
       "16926"
      ]
     },
     "execution_count": 376,
     "metadata": {},
     "output_type": "execute_result"
    }
   ],
   "source": [
    "len(set(df.address))"
   ]
  },
  {
   "cell_type": "code",
   "execution_count": 354,
   "metadata": {},
   "outputs": [],
   "source": [
    "import geocoder"
   ]
  },
  {
   "cell_type": "code",
   "execution_count": 99,
   "metadata": {},
   "outputs": [
    {
     "name": "stderr",
     "output_type": "stream",
     "text": [
      "Status code Unknown from https://maps.googleapis.com/maps/api/geocode/json: ERROR - ('Connection aborted.', OSError(\"(32, 'EPIPE')\",))\n"
     ]
    }
   ],
   "source": [
    "df['latlng'] = geocoder.google(df.address).latlng"
   ]
  },
  {
   "cell_type": "code",
   "execution_count": 373,
   "metadata": {
    "scrolled": false
   },
   "outputs": [],
   "source": [
    "def get_latlng():\n",
    "    addresses = list(df.address)\n",
    "    g = []\n",
    "    for a in addresses:\n",
    "        if len(g) % 49 == 0:\n",
    "            time.sleep(1)\n",
    "        x = geocoder.google(a).latlng\n",
    "        g.append((a,x))\n",
    "        print(len(g),a,x)\n",
    "    return g\n"
   ]
  },
  {
   "cell_type": "code",
   "execution_count": 374,
   "metadata": {
    "scrolled": true
   },
   "outputs": [
    {
     "ename": "AttributeError",
     "evalue": "'Series' object has no attribute 'df'",
     "output_type": "error",
     "traceback": [
      "\u001b[0;31m---------------------------------------------------------------------------\u001b[0m",
      "\u001b[0;31mAttributeError\u001b[0m                            Traceback (most recent call last)",
      "\u001b[0;32m<ipython-input-374-7ca737c583c3>\u001b[0m in \u001b[0;36m<module>\u001b[0;34m()\u001b[0m\n\u001b[0;32m----> 1\u001b[0;31m \u001b[0mget_latlng\u001b[0m\u001b[0;34m(\u001b[0m\u001b[0;34m)\u001b[0m\u001b[0;34m\u001b[0m\u001b[0m\n\u001b[0m",
      "\u001b[0;32m<ipython-input-373-dbf68815ed1f>\u001b[0m in \u001b[0;36mget_latlng\u001b[0;34m()\u001b[0m\n\u001b[1;32m      1\u001b[0m \u001b[0;32mdef\u001b[0m \u001b[0mget_latlng\u001b[0m\u001b[0;34m(\u001b[0m\u001b[0;34m)\u001b[0m\u001b[0;34m:\u001b[0m\u001b[0;34m\u001b[0m\u001b[0m\n\u001b[0;32m----> 2\u001b[0;31m     \u001b[0maddresses\u001b[0m\u001b[0;34m.\u001b[0m\u001b[0mdf\u001b[0m\u001b[0;34m.\u001b[0m\u001b[0maddress\u001b[0m\u001b[0;34m\u001b[0m\u001b[0m\n\u001b[0m\u001b[1;32m      3\u001b[0m     \u001b[0mg\u001b[0m \u001b[0;34m=\u001b[0m \u001b[0;34m[\u001b[0m\u001b[0;34m]\u001b[0m\u001b[0;34m\u001b[0m\u001b[0m\n\u001b[1;32m      4\u001b[0m     \u001b[0;32mfor\u001b[0m \u001b[0ma\u001b[0m \u001b[0;32min\u001b[0m \u001b[0maddresses\u001b[0m\u001b[0;34m:\u001b[0m\u001b[0;34m\u001b[0m\u001b[0m\n\u001b[1;32m      5\u001b[0m         \u001b[0;32mif\u001b[0m \u001b[0mlen\u001b[0m\u001b[0;34m(\u001b[0m\u001b[0mg\u001b[0m\u001b[0;34m)\u001b[0m \u001b[0;34m%\u001b[0m \u001b[0;36m49\u001b[0m \u001b[0;34m==\u001b[0m \u001b[0;36m0\u001b[0m\u001b[0;34m:\u001b[0m\u001b[0;34m\u001b[0m\u001b[0m\n",
      "\u001b[0;32m~/anaconda3/lib/python3.6/site-packages/pandas/core/generic.py\u001b[0m in \u001b[0;36m__getattr__\u001b[0;34m(self, name)\u001b[0m\n\u001b[1;32m   4370\u001b[0m             \u001b[0;32mif\u001b[0m \u001b[0mself\u001b[0m\u001b[0;34m.\u001b[0m\u001b[0m_info_axis\u001b[0m\u001b[0;34m.\u001b[0m\u001b[0m_can_hold_identifiers_and_holds_name\u001b[0m\u001b[0;34m(\u001b[0m\u001b[0mname\u001b[0m\u001b[0;34m)\u001b[0m\u001b[0;34m:\u001b[0m\u001b[0;34m\u001b[0m\u001b[0m\n\u001b[1;32m   4371\u001b[0m                 \u001b[0;32mreturn\u001b[0m \u001b[0mself\u001b[0m\u001b[0;34m[\u001b[0m\u001b[0mname\u001b[0m\u001b[0;34m]\u001b[0m\u001b[0;34m\u001b[0m\u001b[0m\n\u001b[0;32m-> 4372\u001b[0;31m             \u001b[0;32mreturn\u001b[0m \u001b[0mobject\u001b[0m\u001b[0;34m.\u001b[0m\u001b[0m__getattribute__\u001b[0m\u001b[0;34m(\u001b[0m\u001b[0mself\u001b[0m\u001b[0;34m,\u001b[0m \u001b[0mname\u001b[0m\u001b[0;34m)\u001b[0m\u001b[0;34m\u001b[0m\u001b[0m\n\u001b[0m\u001b[1;32m   4373\u001b[0m \u001b[0;34m\u001b[0m\u001b[0m\n\u001b[1;32m   4374\u001b[0m     \u001b[0;32mdef\u001b[0m \u001b[0m__setattr__\u001b[0m\u001b[0;34m(\u001b[0m\u001b[0mself\u001b[0m\u001b[0;34m,\u001b[0m \u001b[0mname\u001b[0m\u001b[0;34m,\u001b[0m \u001b[0mvalue\u001b[0m\u001b[0;34m)\u001b[0m\u001b[0;34m:\u001b[0m\u001b[0;34m\u001b[0m\u001b[0m\n",
      "\u001b[0;31mAttributeError\u001b[0m: 'Series' object has no attribute 'df'"
     ]
    }
   ],
   "source": [
    "get_latlng()"
   ]
  },
  {
   "cell_type": "code",
   "execution_count": 372,
   "metadata": {},
   "outputs": [
    {
     "data": {
      "text/html": [
       "<div>\n",
       "<style scoped>\n",
       "    .dataframe tbody tr th:only-of-type {\n",
       "        vertical-align: middle;\n",
       "    }\n",
       "\n",
       "    .dataframe tbody tr th {\n",
       "        vertical-align: top;\n",
       "    }\n",
       "\n",
       "    .dataframe thead th {\n",
       "        text-align: right;\n",
       "    }\n",
       "</style>\n",
       "<table border=\"1\" class=\"dataframe\">\n",
       "  <thead>\n",
       "    <tr style=\"text-align: right;\">\n",
       "      <th></th>\n",
       "      <th>borough</th>\n",
       "      <th>commercial_units</th>\n",
       "      <th>gross_square_feet</th>\n",
       "      <th>land_square_feet</th>\n",
       "      <th>residential_units</th>\n",
       "      <th>sale_price</th>\n",
       "      <th>total_units</th>\n",
       "      <th>year_built</th>\n",
       "      <th>zip_code</th>\n",
       "    </tr>\n",
       "  </thead>\n",
       "  <tbody>\n",
       "    <tr>\n",
       "      <th>count</th>\n",
       "      <td>73157.000000</td>\n",
       "      <td>73157.000000</td>\n",
       "      <td>7.315700e+04</td>\n",
       "      <td>73157.000000</td>\n",
       "      <td>73157.000000</td>\n",
       "      <td>7.315700e+04</td>\n",
       "      <td>73157.0</td>\n",
       "      <td>73157.000000</td>\n",
       "      <td>73157.000000</td>\n",
       "    </tr>\n",
       "    <tr>\n",
       "      <th>mean</th>\n",
       "      <td>1.898643</td>\n",
       "      <td>0.040324</td>\n",
       "      <td>1.128305e+03</td>\n",
       "      <td>823.094468</td>\n",
       "      <td>0.926596</td>\n",
       "      <td>2.467373e+06</td>\n",
       "      <td>1.0</td>\n",
       "      <td>1584.139727</td>\n",
       "      <td>10548.199284</td>\n",
       "    </tr>\n",
       "    <tr>\n",
       "      <th>std</th>\n",
       "      <td>0.994857</td>\n",
       "      <td>0.196720</td>\n",
       "      <td>1.854823e+04</td>\n",
       "      <td>7141.263132</td>\n",
       "      <td>0.365591</td>\n",
       "      <td>1.874972e+07</td>\n",
       "      <td>0.0</td>\n",
       "      <td>777.922568</td>\n",
       "      <td>742.980951</td>\n",
       "    </tr>\n",
       "    <tr>\n",
       "      <th>min</th>\n",
       "      <td>1.000000</td>\n",
       "      <td>0.000000</td>\n",
       "      <td>0.000000e+00</td>\n",
       "      <td>0.000000</td>\n",
       "      <td>0.000000</td>\n",
       "      <td>1.001980e+05</td>\n",
       "      <td>1.0</td>\n",
       "      <td>0.000000</td>\n",
       "      <td>0.000000</td>\n",
       "    </tr>\n",
       "    <tr>\n",
       "      <th>25%</th>\n",
       "      <td>1.000000</td>\n",
       "      <td>0.000000</td>\n",
       "      <td>0.000000e+00</td>\n",
       "      <td>0.000000</td>\n",
       "      <td>1.000000</td>\n",
       "      <td>5.710000e+05</td>\n",
       "      <td>1.0</td>\n",
       "      <td>1905.000000</td>\n",
       "      <td>10019.000000</td>\n",
       "    </tr>\n",
       "    <tr>\n",
       "      <th>50%</th>\n",
       "      <td>1.000000</td>\n",
       "      <td>0.000000</td>\n",
       "      <td>0.000000e+00</td>\n",
       "      <td>0.000000</td>\n",
       "      <td>1.000000</td>\n",
       "      <td>9.400000e+05</td>\n",
       "      <td>1.0</td>\n",
       "      <td>1940.000000</td>\n",
       "      <td>10069.000000</td>\n",
       "    </tr>\n",
       "    <tr>\n",
       "      <th>75%</th>\n",
       "      <td>3.000000</td>\n",
       "      <td>0.000000</td>\n",
       "      <td>0.000000e+00</td>\n",
       "      <td>0.000000</td>\n",
       "      <td>1.000000</td>\n",
       "      <td>1.838348e+06</td>\n",
       "      <td>1.0</td>\n",
       "      <td>2005.000000</td>\n",
       "      <td>11217.000000</td>\n",
       "    </tr>\n",
       "    <tr>\n",
       "      <th>max</th>\n",
       "      <td>3.000000</td>\n",
       "      <td>1.000000</td>\n",
       "      <td>1.809073e+06</td>\n",
       "      <td>644732.000000</td>\n",
       "      <td>59.000000</td>\n",
       "      <td>2.200000e+09</td>\n",
       "      <td>1.0</td>\n",
       "      <td>2016.000000</td>\n",
       "      <td>11416.000000</td>\n",
       "    </tr>\n",
       "  </tbody>\n",
       "</table>\n",
       "</div>"
      ],
      "text/plain": [
       "            borough  commercial_units  gross_square_feet  land_square_feet  \\\n",
       "count  73157.000000      73157.000000       7.315700e+04      73157.000000   \n",
       "mean       1.898643          0.040324       1.128305e+03        823.094468   \n",
       "std        0.994857          0.196720       1.854823e+04       7141.263132   \n",
       "min        1.000000          0.000000       0.000000e+00          0.000000   \n",
       "25%        1.000000          0.000000       0.000000e+00          0.000000   \n",
       "50%        1.000000          0.000000       0.000000e+00          0.000000   \n",
       "75%        3.000000          0.000000       0.000000e+00          0.000000   \n",
       "max        3.000000          1.000000       1.809073e+06     644732.000000   \n",
       "\n",
       "       residential_units    sale_price  total_units    year_built  \\\n",
       "count       73157.000000  7.315700e+04      73157.0  73157.000000   \n",
       "mean            0.926596  2.467373e+06          1.0   1584.139727   \n",
       "std             0.365591  1.874972e+07          0.0    777.922568   \n",
       "min             0.000000  1.001980e+05          1.0      0.000000   \n",
       "25%             1.000000  5.710000e+05          1.0   1905.000000   \n",
       "50%             1.000000  9.400000e+05          1.0   1940.000000   \n",
       "75%             1.000000  1.838348e+06          1.0   2005.000000   \n",
       "max            59.000000  2.200000e+09          1.0   2016.000000   \n",
       "\n",
       "           zip_code  \n",
       "count  73157.000000  \n",
       "mean   10548.199284  \n",
       "std      742.980951  \n",
       "min        0.000000  \n",
       "25%    10019.000000  \n",
       "50%    10069.000000  \n",
       "75%    11217.000000  \n",
       "max    11416.000000  "
      ]
     },
     "execution_count": 372,
     "metadata": {},
     "output_type": "execute_result"
    }
   ],
   "source": [
    "df.describe()"
   ]
  },
  {
   "cell_type": "code",
   "execution_count": null,
   "metadata": {},
   "outputs": [],
   "source": []
  }
 ],
 "metadata": {
  "kernelspec": {
   "display_name": "Python 3",
   "language": "python",
   "name": "python3"
  },
  "language_info": {
   "codemirror_mode": {
    "name": "ipython",
    "version": 3
   },
   "file_extension": ".py",
   "mimetype": "text/x-python",
   "name": "python",
   "nbconvert_exporter": "python",
   "pygments_lexer": "ipython3",
   "version": "3.6.5"
  }
 },
 "nbformat": 4,
 "nbformat_minor": 2
}
